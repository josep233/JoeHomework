{
 "cells": [
  {
   "cell_type": "code",
   "execution_count": 11,
   "metadata": {},
   "outputs": [
    {
     "name": "stdout",
     "output_type": "stream",
     "text": [
      "The autoreload extension is already loaded. To reload it, use:\n",
      "  %reload_ext autoreload\n"
     ]
    },
    {
     "name": "stderr",
     "output_type": "stream",
     "text": [
      "C:\\Users\\joeys\\AppData\\Local\\Temp\\ipykernel_16228\\566182260.py:31: RuntimeWarning: divide by zero encountered in divide\n",
      "  drag_induced_parasitic = CDp * dynamic_pressure * Sref + (required_lift**2 / (dynamic_pressure * np.pi * span**2 * oswald))\n"
     ]
    }
   ],
   "source": [
    "%reset -f\n",
    "%load_ext autoreload\n",
    "%autoreload 2\n",
    "\n",
    "import numpy as np\n",
    "from matplotlib import pyplot as plt\n",
    "\n",
    "span = 50\n",
    "Sref = 300\n",
    "CDp = 0.01\n",
    "oswald = 0.7\n",
    "altitude = 10668 #meters\n",
    "take_off_mass = 200000\n",
    "fuel_burned = 60000\n",
    "specific_fuel = 0.55 / (3600) #s^-1\n",
    "Mcc = 0.75\n",
    "g = 9.81\n",
    "\n",
    "temperature = 218.808 #K\n",
    "pressure = 23842.3 #K\n",
    "density = 0.379597\n",
    "speed_of_sound = 296.535\n",
    "dynamic_viscosity = 0.0000144446\n",
    "\n",
    "velocity = np.linspace(0,300,100)\n",
    "\n",
    "required_lift = take_off_mass * g\n",
    "dynamic_pressure = (1/2) * density * velocity\n",
    "mach_number = velocity / speed_of_sound\n",
    "\n",
    "drag_induced_parasitic = CDp * dynamic_pressure * Sref + (required_lift**2 / (dynamic_pressure * np.pi * span**2 * oswald))\n",
    "\n",
    "CDc = 0 * mach_number\n",
    "CDc[mach_number > Mcc] = 20 * (mach_number[mach_number > Mcc] - Mcc)**4\n",
    "drag_compressible = CDc * dynamic_pressure * Sref\n"
   ]
  }
 ],
 "metadata": {
  "kernelspec": {
   "display_name": "Python 3",
   "language": "python",
   "name": "python3"
  },
  "language_info": {
   "codemirror_mode": {
    "name": "ipython",
    "version": 3
   },
   "file_extension": ".py",
   "mimetype": "text/x-python",
   "name": "python",
   "nbconvert_exporter": "python",
   "pygments_lexer": "ipython3",
   "version": "3.11.9"
  }
 },
 "nbformat": 4,
 "nbformat_minor": 2
}
