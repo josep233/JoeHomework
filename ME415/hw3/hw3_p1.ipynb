{
 "cells": [
  {
   "cell_type": "code",
   "execution_count": 6,
   "metadata": {},
   "outputs": [
    {
     "name": "stdout",
     "output_type": "stream",
     "text": [
      "The autoreload extension is already loaded. To reload it, use:\n",
      "  %reload_ext autoreload\n"
     ]
    }
   ],
   "source": [
    "%reset -f\n",
    "%load_ext autoreload\n",
    "%autoreload 2\n",
    "\n",
    "import numpy as np\n",
    "from matplotlib import pyplot as plt\n",
    "\n",
    "m = 11000 #in kg\n",
    "altitude = 3048 #in m\n",
    "speed = 93 #in m/s\n",
    "span = 14.5 * 2 #in m\n",
    "temperature = 268.338 #in K\n",
    "pressure = 69681.7 #in Pa\n",
    "air_density = 0.904637 #in kg/m^3\n",
    "speed_sound = 328.387 #in m/s\n",
    "dynamic_viscosity = 0.0000171150 # in N s/m^2\n",
    "inviscid_span_efficiency = 0.98\n",
    "k_lift_viscous = 0.38\n",
    "mean_radius_earth = 6378.137e3 #in m\n",
    "g_sl = 9.80665 #in m/s^2\n",
    "\n",
    "mean_thickness_to_chord_ratio = (0.06 + 0.15) / 2\n",
    "mean_chord = (4.4 + 1.1) / 2 #in m\n",
    "mach_number = speed / speed_sound\n",
    "q = (1 / 2) * air_density * speed**2\n",
    "reynold_number = air_density * speed * mean_chord / dynamic_viscosity\n",
    "S_wing = 2 * (14.5*1.1 + ((4.4 - 1.1) * 14.5 / 2))\n",
    "S_wet_wing = 2 * (1 + 0.2 * mean_thickness_to_chord_ratio) * S_wing\n",
    "g = g_sl * (mean_radius_earth / (mean_radius_earth + altitude))**2\n",
    "AR = span**2 / S_wing\n",
    "\n",
    "#parasitic drag\n",
    "cf_inc = (0.074 / reynold_number**0.2) * 0.8\n",
    "cf = cf_inc * (1 + 0.144 * mach_number**2)**-0.65\n",
    "Z = (2 - mach_number**2) * np.cos(np.deg2rad(0)) / np.sqrt(1 - mach_number**2 * np.cos(np.deg2rad(0))**2)\n",
    "k = 1 + Z * mean_thickness_to_chord_ratio + 100 * (mean_thickness_to_chord_ratio)**4\n",
    "drag_parasitic = cf * S_wet_wing * k * q\n",
    "\n",
    "cdp = k * cf * S_wet_wing / S_wing\n",
    "cl = m * g / (q * S_wing)\n",
    "\n",
    "#viscous lift dependent drag\n",
    "cd = k_lift_viscous * cdp * cl**2\n",
    "drag_viscous_dependent = cd * S_wing * q\n",
    "\n",
    "#induced drag\n",
    "cdi = cl**2 / (np.pi * AR * inviscid_span_efficiency)\n",
    "drag_induced = cdi * S_wing * q\n",
    "\n",
    "#total drag\n",
    "drag_total = drag_parasitic + drag_viscous_dependent + drag_induced"
   ]
  }
 ],
 "metadata": {
  "kernelspec": {
   "display_name": "Python 3",
   "language": "python",
   "name": "python3"
  },
  "language_info": {
   "codemirror_mode": {
    "name": "ipython",
    "version": 3
   },
   "file_extension": ".py",
   "mimetype": "text/x-python",
   "name": "python",
   "nbconvert_exporter": "python",
   "pygments_lexer": "ipython3",
   "version": "3.11.9"
  }
 },
 "nbformat": 4,
 "nbformat_minor": 2
}
