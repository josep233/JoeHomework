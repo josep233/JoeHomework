{
 "cells": [
  {
   "cell_type": "code",
   "execution_count": null,
   "metadata": {},
   "outputs": [],
   "source": [
    "%reset -f\n",
    "%load_ext autoreload\n",
    "%autoreload 2\n",
    "\n",
    "import numpy as np\n",
    "from matplotlib import pyplot as plt\n",
    "\n",
    "mass_other = 667800 #kg\n",
    "rocket_diameter = 10.1 #m\n",
    "ideal_velocity_change = 3600 #m/s\n",
    "specific_impulse = 283 #s\n",
    "oxidizer_to_fuel_mass_ratio = 2.27\n",
    "one_engine_mass = 8400 #kg\n",
    "number_engines = 5\n",
    "RP1_density = 810 #kg/m^3\n",
    "LOX_density = 1141 #kg/m^3\n",
    "tank_thickness = 5e-3 #m\n",
    "rocket_body_thickness = 2e-2 #m\n",
    "density_aluminum = 2810 #kg/m^3\n",
    "g_sl = 9.81\n",
    "C = specific_impulse * g_sl\n",
    "\n",
    "# theoretical_structural_mass = 3e6 #kg\n",
    "\n",
    "MR = np.exp(ideal_velocity_change/C)\n",
    "\n",
    "initial_propellant_mass = 1\n",
    "\n",
    "mass_initial = initial_propellant_mass * (1 - (1/(MR)))**(-1)\n",
    "\n",
    "\n"
   ]
  }
 ],
 "metadata": {
  "kernelspec": {
   "display_name": "Python 3",
   "language": "python",
   "name": "python3"
  },
  "language_info": {
   "codemirror_mode": {
    "name": "ipython",
    "version": 3
   },
   "file_extension": ".py",
   "mimetype": "text/x-python",
   "name": "python",
   "nbconvert_exporter": "python",
   "pygments_lexer": "ipython3",
   "version": "3.11.9"
  }
 },
 "nbformat": 4,
 "nbformat_minor": 2
}
