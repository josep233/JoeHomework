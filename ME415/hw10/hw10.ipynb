{
 "cells": [
  {
   "cell_type": "code",
   "execution_count": 2,
   "metadata": {},
   "outputs": [
    {
     "name": "stdout",
     "output_type": "stream",
     "text": [
      "The autoreload extension is already loaded. To reload it, use:\n",
      "  %reload_ext autoreload\n"
     ]
    },
    {
     "data": {
      "text/plain": [
       "[]"
      ]
     },
     "execution_count": 2,
     "metadata": {},
     "output_type": "execute_result"
    }
   ],
   "source": [
    "%reset -f\n",
    "%load_ext autoreload\n",
    "%autoreload 2\n",
    "\n",
    "import numpy as np\n",
    "from matplotlib import pyplot as plt\n",
    "import sympy as sy\n",
    "import scipy\n",
    "\n",
    "start_altitude = 500 #km\n",
    "end_altitude = 15000 #km\n",
    "rocket_effective_exit_velocity = 3000 #m/s\n",
    "\n",
    "mu1 = sy.Symbol('mu1')\n",
    "mu2 = sy.Symbol('mu2')\n",
    "\n",
    "eq = sy.sqrt(mu1/start_altitude) - sy.sqrt(mu2*(2/start_altitude - 1/end_altitude)) - rocket_effective_exit_velocity\n",
    "\n",
    "sy.solve(eq,mu2/mu1)"
   ]
  }
 ],
 "metadata": {
  "kernelspec": {
   "display_name": "Python 3",
   "language": "python",
   "name": "python3"
  },
  "language_info": {
   "codemirror_mode": {
    "name": "ipython",
    "version": 3
   },
   "file_extension": ".py",
   "mimetype": "text/x-python",
   "name": "python",
   "nbconvert_exporter": "python",
   "pygments_lexer": "ipython3",
   "version": "3.10.11"
  }
 },
 "nbformat": 4,
 "nbformat_minor": 2
}
