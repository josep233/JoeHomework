{
 "cells": [
  {
   "cell_type": "code",
   "execution_count": 15,
   "metadata": {},
   "outputs": [
    {
     "name": "stdout",
     "output_type": "stream",
     "text": [
      "The autoreload extension is already loaded. To reload it, use:\n",
      "  %reload_ext autoreload\n",
      "0.44260010235498604\n"
     ]
    }
   ],
   "source": [
    "%reset -f\n",
    "%load_ext autoreload\n",
    "%autoreload 2\n",
    "\n",
    "import numpy as np\n",
    "from matplotlib import pyplot as plt\n",
    "import sympy as sy\n",
    "import scipy\n",
    "\n",
    "Re = 6371e3\n",
    "start_altitude = 500e3 + Re#km\n",
    "end_altitude = 15000e3  + Re#km\n",
    "rocket_effective_exit_velocity = 3000 #m/s\n",
    "mu = 3.986e14\n",
    "\n",
    "\n",
    "a = (end_altitude + start_altitude) / 2\n",
    "r = start_altitude\n",
    "\n",
    "vi = np.sqrt(mu/start_altitude)\n",
    "vf = np.sqrt(mu * (2/r - 1/a))\n",
    "\n",
    "gi = mu / (Re + start_altitude)**2\n",
    "gf = mu / (Re + end_altitude)**2\n",
    "deltag = (gi + gf) / 2\n",
    "\n",
    "ratio = 1 - (np.exp((vf - vi)/rocket_effective_exit_velocity))**(-1)\n",
    "\n",
    "print(ratio)"
   ]
  }
 ],
 "metadata": {
  "kernelspec": {
   "display_name": "Python 3",
   "language": "python",
   "name": "python3"
  },
  "language_info": {
   "codemirror_mode": {
    "name": "ipython",
    "version": 3
   },
   "file_extension": ".py",
   "mimetype": "text/x-python",
   "name": "python",
   "nbconvert_exporter": "python",
   "pygments_lexer": "ipython3",
   "version": "3.11.9"
  }
 },
 "nbformat": 4,
 "nbformat_minor": 2
}
