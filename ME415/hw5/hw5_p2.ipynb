{
 "cells": [
  {
   "cell_type": "code",
   "execution_count": 2,
   "metadata": {},
   "outputs": [
    {
     "name": "stdout",
     "output_type": "stream",
     "text": [
      "The autoreload extension is already loaded. To reload it, use:\n",
      "  %reload_ext autoreload\n",
      "soc after takeoff: 0.8930346206799535\n",
      "soc after cruise: 0.8299795199630249\n",
      "soc after abort: 0.8256028056756493\n",
      "soc after reserve: 0.8164830869415116\n",
      "soc after descent: 0.8128277183373028\n"
     ]
    }
   ],
   "source": [
    "%reset -f\n",
    "%load_ext autoreload\n",
    "%autoreload 2\n",
    "\n",
    "import numpy as np\n",
    "from matplotlib import pyplot as plt\n",
    "\n",
    "#known information\n",
    "takeoff_soc = 0.9\n",
    "cell_capacity = 3.55 #amp hours\n",
    "takeoff_time = 1 / 60 #in minutes\n",
    "takeoff_power = 290e3 #in W\n",
    "cruise_time = 35 / 60 \n",
    "cruise_power = 75e3\n",
    "abort_time = 1 / 60\n",
    "abort_power = 180e3\n",
    "reserve_time = 5 / 60\n",
    "reserve_power = 75e3\n",
    "descent_time = 1 / 60\n",
    "descent_power = 150e3\n",
    "start_charge = 0.9\n",
    "pack_capacity = 24 * 2 * cell_capacity\n",
    "\n",
    "def solve_problem(current_soc, current_power, event_time):\n",
    "    resistance = (0.015 * current_soc**2 - 0.025 * current_soc + 0.104)\n",
    "    ocv = (0.39 * current_soc**2 + 0.07 * current_soc + 3.7) * 1e3\n",
    "    current = (ocv/(2*resistance)) - np.sqrt((ocv/(2*resistance))**2 - current_power/resistance)\n",
    "    battery_voltage = ocv - current * resistance\n",
    "    efficiency = battery_voltage / ocv\n",
    "    power_used = current * event_time\n",
    "    new_soc = (pack_capacity * current_soc - power_used) / pack_capacity\n",
    "    out = {'resistance':resistance,'ocv':ocv,'current':current,'battery_voltage':battery_voltage,'efficiency':efficiency,'power_used':power_used,'new_soc':new_soc}\n",
    "    return out\n",
    "    \n",
    "\n",
    "takeoff_out = solve_problem(takeoff_soc, takeoff_power, takeoff_time)\n",
    "cruise_out = solve_problem(takeoff_out['new_soc'], cruise_power, cruise_time)\n",
    "abort_out = solve_problem(cruise_out['new_soc'], abort_power, abort_time)\n",
    "reserve_out = solve_problem(abort_out['new_soc'], reserve_power, reserve_time)\n",
    "descent_out = solve_problem(reserve_out['new_soc'], descent_power, descent_time)\n",
    "\n",
    "print(f\"soc after takeoff: {takeoff_out['new_soc']}\")\n",
    "print(f\"soc after cruise: {cruise_out['new_soc']}\")\n",
    "print(f\"soc after abort: {abort_out['new_soc']}\")\n",
    "print(f\"soc after reserve: {reserve_out['new_soc']}\")\n",
    "print(f\"soc after descent: {descent_out['new_soc']}\")\n",
    "\n",
    "\n",
    "# pack_capacity = 24 * 2 * cell_capacity\n",
    "\n",
    "# takeoff_r = calculate_r(takeoff_soc)\n",
    "# takeoff_ocv = calculate_ocv(takeoff_soc)\n",
    "# takeoff_current = calculate_current(takeoff_r,takeoff_ocv,takeoff_power)\n",
    "# takeoff_battery_voltage = takeoff_ocv - takeoff_current * takeoff_r\n",
    "# takeoff_efficiency = takeoff_battery_voltage / takeoff_ocv\n",
    "# takeoff_power_used = takeoff_current * takeoff_time\n",
    "# takeoff_end_soc = (pack_capacity * takeoff_soc - takeoff_power_used) / pack_capacity\n",
    "\n"
   ]
  }
 ],
 "metadata": {
  "kernelspec": {
   "display_name": "Python 3",
   "language": "python",
   "name": "python3"
  },
  "language_info": {
   "codemirror_mode": {
    "name": "ipython",
    "version": 3
   },
   "file_extension": ".py",
   "mimetype": "text/x-python",
   "name": "python",
   "nbconvert_exporter": "python",
   "pygments_lexer": "ipython3",
   "version": "3.11.9"
  }
 },
 "nbformat": 4,
 "nbformat_minor": 2
}
