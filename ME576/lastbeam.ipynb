{
 "cells": [
  {
   "cell_type": "code",
   "execution_count": 12,
   "metadata": {},
   "outputs": [
    {
     "name": "stdout",
     "output_type": "stream",
     "text": [
      "The autoreload extension is already loaded. To reload it, use:\n",
      "  %reload_ext autoreload\n"
     ]
    },
    {
     "data": {
      "text/plain": [
       "(-0.001, 0.021, -0.00022500000000000005, 0.021775000000000003)"
      ]
     },
     "execution_count": 12,
     "metadata": {},
     "output_type": "execute_result"
    },
    {
     "data": {
      "image/png": "[encoded data removed]",
      "text/plain": [
       "<Figure size 640x480 with 1 Axes>"
      ]
     },
     "metadata": {},
     "output_type": "display_data"
    }
   ],
   "source": [
    "%reset -f\n",
    "%load_ext autoreload\n",
    "%autoreload 2\n",
    "\n",
    "import numpy as np\n",
    "import sympy as sy\n",
    "from matplotlib import pyplot as plt\n",
    "\n",
    "def find_closest_index(array, n, t):\n",
    "    # Convert array to a NumPy array if it's not already one\n",
    "    array = np.asarray(array)\n",
    "    \n",
    "    # Calculate absolute differences between array elements and target number n\n",
    "    differences = np.abs(array - n)\n",
    "    \n",
    "    # Find indices where the difference is within the threshold t\n",
    "    within_threshold_indices = np.where(differences <= t)[0]\n",
    "    \n",
    "    # If no values are within the threshold, return None\n",
    "    if len(within_threshold_indices) == 0:\n",
    "        return None\n",
    "    \n",
    "    # Find the index of the minimum difference within the threshold\n",
    "    closest_index = within_threshold_indices[np.argmin(differences[within_threshold_indices])]\n",
    "    \n",
    "    return closest_index\n",
    "\n",
    "elastic_modulus = 2900e6\n",
    "width_beam = 0.5e-2\n",
    "length_beam = 2e-2\n",
    "height_beam = 0.25e-2\n",
    "deflection = length_beam * 0.1\n",
    "friction_coefficient = 0.5\n",
    "diameter_pin = 5e-2\n",
    "\n",
    "I_beam = (width_beam * height_beam**3) / 12\n",
    "angle_in_deg = np.linspace(10,80,1000)\n",
    "angle_in_rad = np.deg2rad(angle_in_deg)\n",
    "force_in_desired = (2.26 / diameter_pin) / 2\n",
    "force_threshold_in = 0.1 * force_in_desired\n",
    "\n",
    "extra_bit = (friction_coefficient * np.cos(angle_in_rad) + np.sin(angle_in_rad)) / (friction_coefficient * np.sin(angle_in_rad) + np.cos(angle_in_rad))\n",
    "# extra_bit = (friction_coefficient + np.tan(angle_in_rad))\n",
    "calculated_force_in = ((3 * elastic_modulus * I_beam) / (length_beam - (deflection / np.tan(angle_in_rad)))**3) * deflection * extra_bit\n",
    "\n",
    "id_in = find_closest_index(calculated_force_in, force_in_desired, force_threshold_in)\n",
    "the_force_in = calculated_force_in[id_in]\n",
    "the_angle_in_deg = angle_in_deg[id_in]\n",
    "the_angle_in_rad = angle_in_rad[id_in]\n",
    "force_location = length_beam - deflection / np.tan(the_angle_in_rad)\n",
    "the_small_angle = deflection / force_location\n",
    "\n",
    "# # Plotting if desired\n",
    "# plt.figure()\n",
    "# plt.plot(angle_in_deg,calculated_force_in,'black')\n",
    "# # plt.plot(angle_in_deg,calculated_force_out,'red')\n",
    "# plt.scatter(the_angle_in_deg,the_force_in,c='red')\n",
    "\n",
    "index = -1\n",
    "fig, ax = plt.subplots()\n",
    "# plt.figure()\n",
    "ax.plot([0,length_beam],[0,0],'black')\n",
    "ax.plot([0,0],[0,height_beam],'black')\n",
    "ax.plot([length_beam,length_beam],[0,height_beam],'black')\n",
    "ax.plot([length_beam,force_location],[height_beam,deflection+height_beam],'black')\n",
    "ax.plot([0,force_location],[height_beam,height_beam],'black')\n",
    "ax.plot([force_location,force_location],[height_beam,height_beam+deflection],'black')\n",
    "# ax.plot([ramp_location[i][0],the_force_location],[height_beam,height_beam+deflection],'black')\n",
    "ax.axis('square')\n"
   ]
  }
 ],
 "metadata": {
  "kernelspec": {
   "display_name": "Python 3",
   "language": "python",
   "name": "python3"
  },
  "language_info": {
   "codemirror_mode": {
    "name": "ipython",
    "version": 3
   },
   "file_extension": ".py",
   "mimetype": "text/x-python",
   "name": "python",
   "nbconvert_exporter": "python",
   "pygments_lexer": "ipython3",
   "version": "3.10.11"
  }
 },
 "nbformat": 4,
 "nbformat_minor": 2
}
