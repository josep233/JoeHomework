{
 "cells": [
  {
   "cell_type": "code",
   "execution_count": 5,
   "metadata": {},
   "outputs": [
    {
     "data": {
      "image/png": "[encoded data removed]",
      "text/plain": [
       "<Figure size 640x480 with 1 Axes>"
      ]
     },
     "metadata": {},
     "output_type": "display_data"
    }
   ],
   "source": [
    "import numpy as np\n",
    "from scipy.optimize import minimize\n",
    "from matplotlib import pyplot as plt\n",
    "\n",
    "def find_closest_index(array, n, t):\n",
    "    # Convert array to a NumPy array if it's not already one\n",
    "    array = np.asarray(array)\n",
    "    \n",
    "    # Calculate absolute differences between array elements and target number n\n",
    "    differences = np.abs(array - n)\n",
    "    \n",
    "    # Find indices where the difference is within the threshold t\n",
    "    within_threshold_indices = np.where(differences <= t)[0]\n",
    "    \n",
    "    # If no values are within the threshold, return None\n",
    "    if len(within_threshold_indices) == 0:\n",
    "        return None\n",
    "    \n",
    "    # Find the index of the minimum difference within the threshold\n",
    "    closest_index = within_threshold_indices[np.argmin(differences[within_threshold_indices])]\n",
    "    \n",
    "    return closest_index\n",
    "\n",
    "# L = 10e-2\n",
    "# l = 0.75 * L\n",
    "# b = 0.5e-2\n",
    "# h = 0.5e-2\n",
    "# I = (b * h**3) / 12\n",
    "# E = 2900e6\n",
    "# mu = 0.5\n",
    "\n",
    "# L = 6e-2\n",
    "# l = 0.75 * L\n",
    "b = 0.5e-2\n",
    "h = 0.25e-2\n",
    "I = (b * h**3) / 12\n",
    "E = 2900e6\n",
    "mu = 0.5\n",
    "angle_rad = np.linspace(np.deg2rad(5),np.deg2rad(85),1000)\n",
    "angle_deg = np.rad2deg(angle_rad)\n",
    "\n",
    "force_out = (2 * E * I / l**2) + 5\n",
    "\n",
    "# delta = (L - l) * np.tan(angle_rad)\n",
    "chosen_delta = 0.1 * l\n",
    "l = chosen_delta / np.tan(angle_rad)\n",
    "L = l + chosen_delta / np.tan(angle_rad)\n",
    "\n",
    "force_in = ((3 * E * I) / l**3) * chosen_delta * (mu * np.cos(angle_rad) + np.sin(angle_rad)) / (mu * np.sin(angle_rad) + np.cos(angle_rad))\n",
    "# force_in = ((3 * E * I) / l**3) * l * 0.1 * (mu * np.cos(angle_rad) + np.sin(angle_rad)) / (mu * np.sin(angle_rad) + np.cos(angle_rad))\n",
    "# force_in = 22\n",
    "# required_deflection = force_in / (((3 * E * I) / l**3) * (mu * np.cos(angle_rad) + np.sin(angle_rad)) / (mu * np.sin(angle_rad) + np.cos(angle_rad)))\n",
    "\n",
    "small_angle = chosen_delta / L\n",
    "# # print(small_angle)\n",
    "\n",
    "angle_id = find_closest_index(force_in, 5, 0.5)\n",
    "chosen_angle_rad = angle_rad[angle_id]\n",
    "chosen_angle_deg = angle_deg[angle_id]\n",
    "# chosen_delta = delta[angle_id]\n",
    "ramp_height = chosen_delta + h\n",
    "chosen_small_angle = chosen_delta / l[angle_id]\n",
    "\n",
    "force_in_calculated = ((3 * E * I) / l**3) * l * 0.1 * (mu * np.cos(chosen_angle_rad) + np.sin(chosen_angle_rad)) / (mu * np.sin(chosen_angle_rad) + np.cos(chosen_angle_rad))\n",
    "# force_in_calculated = ((3 * E * I) / l**3) * (L-l) * np.tan(np.deg2rad(40)) * (mu + np.tan(np.deg2rad(40)))\n",
    "plt.figure()\n",
    "plt.plot(angle_deg,force_in)\n",
    "plt.xlabel('angle')\n",
    "plt.ylabel('force')\n",
    "plt.show()\n",
    "\n",
    "# plt.figure()\n",
    "# plt.plot([L,0],[0,0],'black')\n",
    "# plt.plot([0,0],[0,h],'black')\n",
    "# plt.plot([L,L],[0,h],'black')\n",
    "# plt.plot([L,l],[h,h+chosen_delta],'black')\n",
    "# plt.axis('square')\n",
    "# plt.show()"
   ]
  }
 ],
 "metadata": {
  "kernelspec": {
   "display_name": "Python 3",
   "language": "python",
   "name": "python3"
  },
  "language_info": {
   "codemirror_mode": {
    "name": "ipython",
    "version": 3
   },
   "file_extension": ".py",
   "mimetype": "text/x-python",
   "name": "python",
   "nbconvert_exporter": "python",
   "pygments_lexer": "ipython3",
   "version": "3.10.11"
  }
 },
 "nbformat": 4,
 "nbformat_minor": 2
}
