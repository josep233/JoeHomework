{
 "cells": [
  {
   "cell_type": "code",
   "execution_count": 4,
   "metadata": {},
   "outputs": [
    {
     "name": "stdout",
     "output_type": "stream",
     "text": [
      "The autoreload extension is already loaded. To reload it, use:\n",
      "  %reload_ext autoreload\n",
      "0.007858983848622453\n"
     ]
    }
   ],
   "source": [
    "%reset -f\n",
    "%load_ext autoreload\n",
    "%autoreload 2\n",
    "\n",
    "import numpy as np\n",
    "\n",
    "#all units in SI\n",
    "\n",
    "elastic_modulus = 2900e6\n",
    "length_beam = 5e-2 \n",
    "width_beam = 1e-2\n",
    "height_beam = 0.25e-2\n",
    "load_location = 3e-2\n",
    "angle = np.deg2rad(15)\n",
    "force_hand = 22.2411\n",
    "force_spring = 0\n",
    "mu = 0.5\n",
    "I_beam = (width_beam * height_beam**3) / 12\n",
    "\n",
    "force_normal = (force_hand - force_spring) / (mu * np.cos(angle) + np.sin(angle))\n",
    "\n",
    "force_on_beam = force_normal * np.cos(angle)\n",
    "\n",
    "deflection_beam = (2 * force_on_beam * load_location**3 / (6 * elastic_modulus * I_beam))\n",
    "\n",
    "ans = np.tan(angle) * 2e-2\n",
    "print(ans + 0.25e-2)"
   ]
  }
 ],
 "metadata": {
  "kernelspec": {
   "display_name": "Python 3",
   "language": "python",
   "name": "python3"
  },
  "language_info": {
   "codemirror_mode": {
    "name": "ipython",
    "version": 3
   },
   "file_extension": ".py",
   "mimetype": "text/x-python",
   "name": "python",
   "nbconvert_exporter": "python",
   "pygments_lexer": "ipython3",
   "version": "3.10.11"
  }
 },
 "nbformat": 4,
 "nbformat_minor": 2
}
