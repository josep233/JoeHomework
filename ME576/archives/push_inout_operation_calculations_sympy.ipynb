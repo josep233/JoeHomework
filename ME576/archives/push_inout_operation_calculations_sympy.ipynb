{
 "cells": [
  {
   "cell_type": "code",
   "execution_count": 66,
   "metadata": {},
   "outputs": [
    {
     "name": "stdout",
     "output_type": "stream",
     "text": [
      "The autoreload extension is already loaded. To reload it, use:\n",
      "  %reload_ext autoreload\n"
     ]
    }
   ],
   "source": [
    "%reset -f\n",
    "%load_ext autoreload\n",
    "%autoreload 2\n",
    "\n",
    "import numpy as np\n",
    "import sympy as sy\n",
    "\n",
    "#all units in SI\n",
    "\n",
    "elastic_modulus = 2900e6\n",
    "length_beam = 10e-2 \n",
    "width_beam = 4e-2\n",
    "height_beam = 1e-2\n",
    "force_hand_in = 22.241\n",
    "force_hand_out = force_hand_in * 2\n",
    "coefficient_friction = 0.5\n",
    "I_beam = (width_beam * height_beam**3) / 12\n",
    "# deflection = 1e-2\n",
    "max_bump_height = height_beam / 2\n",
    "deflection = max_bump_height\n",
    "\n",
    "number_mechanisms = 2\n",
    "\n",
    "def normalize_angle(angle):\n",
    "    # Convert the angle to a value between 0 and 360 degrees\n",
    "    angle = angle % 360\n",
    "    # If the angle is greater than 90, reflect it into the 0-90 range\n",
    "    if angle > 90:\n",
    "        angle = 180 - angle\n",
    "    return abs(angle)\n",
    "\n",
    "def calculate_angle(force_hand, coefficient_friction, elastic_modulus, I_beam, length_beam, deflection, number_mechanisms):\n",
    "    angle = sy.Symbol('angle')\n",
    "    force_normal = sy.Symbol('force_normal')\n",
    "\n",
    "    force_hand = force_hand / number_mechanisms\n",
    "\n",
    "    eq1 = (force_hand) / (coefficient_friction * sy.cos(angle) + sy.sin(angle)) - force_normal\n",
    "    eq2 = ((3 * elastic_modulus * I_beam) / length_beam**3) * deflection - force_normal * sy.cos(angle)\n",
    "\n",
    "    solutions = sy.solve([eq1,eq2],[angle,force_normal],dict=True)\n",
    "    angle_solution_rad = float(solutions[0][angle])\n",
    "    angle_solution_deg = np.rad2deg(angle_solution_rad)\n",
    "\n",
    "    angle_solution_deg = normalize_angle(angle_solution_deg)\n",
    "    angle_solution_rad = np.deg2rad(angle_solution_deg)\n",
    "    force_normal_solution = float(solutions[0][force_normal])\n",
    "    \n",
    "    return angle_solution_rad, angle_solution_deg, force_normal_solution\n",
    "\n",
    "[angle_solution_rad_in, angle_solution_deg_in, force_normal_solution_in] = calculate_angle(force_hand_in, coefficient_friction, elastic_modulus, I_beam, length_beam, deflection, number_mechanisms)\n",
    "[angle_solution_rad_out, angle_solution_deg_out, force_normal_solution_out] = calculate_angle(force_hand_out, coefficient_friction, elastic_modulus, I_beam, length_beam, deflection, number_mechanisms)\n",
    "\n",
    "load_location = max_bump_height / np.tan(angle_solution_rad_in)\n",
    "# endline = load_location - max_bump_height / np.tan(angle_solution_rad_out)\n",
    "\n",
    "\n"
   ]
  }
 ],
 "metadata": {
  "kernelspec": {
   "display_name": "Python 3",
   "language": "python",
   "name": "python3"
  },
  "language_info": {
   "codemirror_mode": {
    "name": "ipython",
    "version": 3
   },
   "file_extension": ".py",
   "mimetype": "text/x-python",
   "name": "python",
   "nbconvert_exporter": "python",
   "pygments_lexer": "ipython3",
   "version": "3.10.11"
  }
 },
 "nbformat": 4,
 "nbformat_minor": 2
}
