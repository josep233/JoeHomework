{
 "cells": [
  {
   "cell_type": "code",
   "execution_count": 1,
   "metadata": {},
   "outputs": [
    {
     "ename": "NameError",
     "evalue": "name 'angle_solution_out' is not defined",
     "output_type": "error",
     "traceback": [
      "\u001b[1;31m---------------------------------------------------------------------------\u001b[0m",
      "\u001b[1;31mNameError\u001b[0m                                 Traceback (most recent call last)",
      "Cell \u001b[1;32mIn[1], line 47\u001b[0m\n\u001b[0;32m     44\u001b[0m initial_guess \u001b[38;5;241m=\u001b[39m [\u001b[38;5;241m0.1\u001b[39m, \u001b[38;5;241m100\u001b[39m, \u001b[38;5;241m0.5\u001b[39m]  \u001b[38;5;66;03m# Initial angle in radians and force_normal\u001b[39;00m\n\u001b[0;32m     46\u001b[0m \u001b[38;5;66;03m#solve\u001b[39;00m\n\u001b[1;32m---> 47\u001b[0m solution \u001b[38;5;241m=\u001b[39m \u001b[43mconstrained_solve\u001b[49m\u001b[43m(\u001b[49m\u001b[43minitial_guess\u001b[49m\u001b[43m,\u001b[49m\u001b[43m \u001b[49m\u001b[43mforce_hand_in\u001b[49m\u001b[43m,\u001b[49m\u001b[43m \u001b[49m\u001b[43mcoefficient_friction\u001b[49m\u001b[43m,\u001b[49m\u001b[43m \u001b[49m\u001b[43melastic_modulus\u001b[49m\u001b[43m,\u001b[49m\u001b[43m \u001b[49m\u001b[43mI_beam\u001b[49m\u001b[43m,\u001b[49m\u001b[43m \u001b[49m\u001b[43mlength_beam\u001b[49m\u001b[43m,\u001b[49m\u001b[43m \u001b[49m\u001b[43mdeflection\u001b[49m\u001b[43m)\u001b[49m\n\u001b[0;32m     48\u001b[0m angle_solution_in, force_normal_solution_in \u001b[38;5;241m=\u001b[39m solution\n\u001b[0;32m     50\u001b[0m \u001b[38;5;66;03m#convert angle to degrees\u001b[39;00m\n",
      "Cell \u001b[1;32mIn[1], line 17\u001b[0m, in \u001b[0;36mconstrained_solve\u001b[1;34m(initial_guess, force_hand, coefficient_friction, elastic_modulus, I_beam, length_beam, deflection)\u001b[0m\n\u001b[0;32m     15\u001b[0m \u001b[38;5;28;01mdef\u001b[39;00m \u001b[38;5;21mconstrained_solve\u001b[39m(initial_guess, force_hand, coefficient_friction, elastic_modulus, I_beam, length_beam, deflection):\n\u001b[0;32m     16\u001b[0m     \u001b[38;5;66;03m#solve the system of equations\u001b[39;00m\n\u001b[1;32m---> 17\u001b[0m     solution \u001b[38;5;241m=\u001b[39m \u001b[43mfsolve\u001b[49m\u001b[43m(\u001b[49m\n\u001b[0;32m     18\u001b[0m \u001b[43m        \u001b[49m\u001b[38;5;28;43;01mlambda\u001b[39;49;00m\u001b[43m \u001b[49m\u001b[38;5;28;43mvars\u001b[39;49m\u001b[43m:\u001b[49m\u001b[43m \u001b[49m\u001b[43mequations\u001b[49m\u001b[43m(\u001b[49m\u001b[38;5;28;43mvars\u001b[39;49m\u001b[43m,\u001b[49m\u001b[43m \u001b[49m\u001b[43mforce_hand\u001b[49m\u001b[43m,\u001b[49m\u001b[43m \u001b[49m\u001b[43mcoefficient_friction\u001b[49m\u001b[43m,\u001b[49m\u001b[43m \u001b[49m\u001b[43melastic_modulus\u001b[49m\u001b[43m,\u001b[49m\u001b[43m \u001b[49m\u001b[43mI_beam\u001b[49m\u001b[43m,\u001b[49m\u001b[43m \u001b[49m\u001b[43mlength_beam\u001b[49m\u001b[43m,\u001b[49m\u001b[43m \u001b[49m\u001b[43mdeflection\u001b[49m\u001b[43m)\u001b[49m\u001b[43m,\u001b[49m\n\u001b[0;32m     19\u001b[0m \u001b[43m        \u001b[49m\u001b[43minitial_guess\u001b[49m\n\u001b[0;32m     20\u001b[0m \u001b[43m    \u001b[49m\u001b[43m)\u001b[49m\n\u001b[0;32m     22\u001b[0m     \u001b[38;5;66;03m#enforce that the angle is between 0 and 90 degrees\u001b[39;00m\n\u001b[0;32m     23\u001b[0m     angle \u001b[38;5;241m=\u001b[39m solution[\u001b[38;5;241m0\u001b[39m]\n",
      "File \u001b[1;32m~\\AppData\\Local\\Packages\\PythonSoftwareFoundation.Python.3.10_qbz5n2kfra8p0\\LocalCache\\local-packages\\Python310\\site-packages\\scipy\\optimize\\_minpack_py.py:160\u001b[0m, in \u001b[0;36mfsolve\u001b[1;34m(func, x0, args, fprime, full_output, col_deriv, xtol, maxfev, band, epsfcn, factor, diag)\u001b[0m\n\u001b[0;32m     49\u001b[0m \u001b[38;5;250m\u001b[39m\u001b[38;5;124;03m\"\"\"\u001b[39;00m\n\u001b[0;32m     50\u001b[0m \u001b[38;5;124;03mFind the roots of a function.\u001b[39;00m\n\u001b[0;32m     51\u001b[0m \n\u001b[1;32m   (...)\u001b[0m\n\u001b[0;32m    150\u001b[0m \n\u001b[0;32m    151\u001b[0m \u001b[38;5;124;03m\"\"\"\u001b[39;00m\n\u001b[0;32m    152\u001b[0m options \u001b[38;5;241m=\u001b[39m {\u001b[38;5;124m'\u001b[39m\u001b[38;5;124mcol_deriv\u001b[39m\u001b[38;5;124m'\u001b[39m: col_deriv,\n\u001b[0;32m    153\u001b[0m            \u001b[38;5;124m'\u001b[39m\u001b[38;5;124mxtol\u001b[39m\u001b[38;5;124m'\u001b[39m: xtol,\n\u001b[0;32m    154\u001b[0m            \u001b[38;5;124m'\u001b[39m\u001b[38;5;124mmaxfev\u001b[39m\u001b[38;5;124m'\u001b[39m: maxfev,\n\u001b[1;32m   (...)\u001b[0m\n\u001b[0;32m    157\u001b[0m            \u001b[38;5;124m'\u001b[39m\u001b[38;5;124mfactor\u001b[39m\u001b[38;5;124m'\u001b[39m: factor,\n\u001b[0;32m    158\u001b[0m            \u001b[38;5;124m'\u001b[39m\u001b[38;5;124mdiag\u001b[39m\u001b[38;5;124m'\u001b[39m: diag}\n\u001b[1;32m--> 160\u001b[0m res \u001b[38;5;241m=\u001b[39m _root_hybr(func, x0, args, jac\u001b[38;5;241m=\u001b[39mfprime, \u001b[38;5;241m*\u001b[39m\u001b[38;5;241m*\u001b[39moptions)\n\u001b[0;32m    161\u001b[0m \u001b[38;5;28;01mif\u001b[39;00m full_output:\n\u001b[0;32m    162\u001b[0m     x \u001b[38;5;241m=\u001b[39m res[\u001b[38;5;124m'\u001b[39m\u001b[38;5;124mx\u001b[39m\u001b[38;5;124m'\u001b[39m]\n",
      "File \u001b[1;32m~\\AppData\\Local\\Packages\\PythonSoftwareFoundation.Python.3.10_qbz5n2kfra8p0\\LocalCache\\local-packages\\Python310\\site-packages\\scipy\\optimize\\_minpack_py.py:226\u001b[0m, in \u001b[0;36m_root_hybr\u001b[1;34m(func, x0, args, jac, col_deriv, xtol, maxfev, band, eps, factor, diag, **unknown_options)\u001b[0m\n\u001b[0;32m    224\u001b[0m \u001b[38;5;28;01mif\u001b[39;00m \u001b[38;5;129;01mnot\u001b[39;00m \u001b[38;5;28misinstance\u001b[39m(args, \u001b[38;5;28mtuple\u001b[39m):\n\u001b[0;32m    225\u001b[0m     args \u001b[38;5;241m=\u001b[39m (args,)\n\u001b[1;32m--> 226\u001b[0m shape, dtype \u001b[38;5;241m=\u001b[39m \u001b[43m_check_func\u001b[49m\u001b[43m(\u001b[49m\u001b[38;5;124;43m'\u001b[39;49m\u001b[38;5;124;43mfsolve\u001b[39;49m\u001b[38;5;124;43m'\u001b[39;49m\u001b[43m,\u001b[49m\u001b[43m \u001b[49m\u001b[38;5;124;43m'\u001b[39;49m\u001b[38;5;124;43mfunc\u001b[39;49m\u001b[38;5;124;43m'\u001b[39;49m\u001b[43m,\u001b[49m\u001b[43m \u001b[49m\u001b[43mfunc\u001b[49m\u001b[43m,\u001b[49m\u001b[43m \u001b[49m\u001b[43mx0\u001b[49m\u001b[43m,\u001b[49m\u001b[43m \u001b[49m\u001b[43margs\u001b[49m\u001b[43m,\u001b[49m\u001b[43m \u001b[49m\u001b[43mn\u001b[49m\u001b[43m,\u001b[49m\u001b[43m \u001b[49m\u001b[43m(\u001b[49m\u001b[43mn\u001b[49m\u001b[43m,\u001b[49m\u001b[43m)\u001b[49m\u001b[43m)\u001b[49m\n\u001b[0;32m    227\u001b[0m \u001b[38;5;28;01mif\u001b[39;00m epsfcn \u001b[38;5;129;01mis\u001b[39;00m \u001b[38;5;28;01mNone\u001b[39;00m:\n\u001b[0;32m    228\u001b[0m     epsfcn \u001b[38;5;241m=\u001b[39m finfo(dtype)\u001b[38;5;241m.\u001b[39meps\n",
      "File \u001b[1;32m~\\AppData\\Local\\Packages\\PythonSoftwareFoundation.Python.3.10_qbz5n2kfra8p0\\LocalCache\\local-packages\\Python310\\site-packages\\scipy\\optimize\\_minpack_py.py:24\u001b[0m, in \u001b[0;36m_check_func\u001b[1;34m(checker, argname, thefunc, x0, args, numinputs, output_shape)\u001b[0m\n\u001b[0;32m     22\u001b[0m \u001b[38;5;28;01mdef\u001b[39;00m \u001b[38;5;21m_check_func\u001b[39m(checker, argname, thefunc, x0, args, numinputs,\n\u001b[0;32m     23\u001b[0m                 output_shape\u001b[38;5;241m=\u001b[39m\u001b[38;5;28;01mNone\u001b[39;00m):\n\u001b[1;32m---> 24\u001b[0m     res \u001b[38;5;241m=\u001b[39m atleast_1d(\u001b[43mthefunc\u001b[49m\u001b[43m(\u001b[49m\u001b[38;5;241;43m*\u001b[39;49m\u001b[43m(\u001b[49m\u001b[43m(\u001b[49m\u001b[43mx0\u001b[49m\u001b[43m[\u001b[49m\u001b[43m:\u001b[49m\u001b[43mnuminputs\u001b[49m\u001b[43m]\u001b[49m\u001b[43m,\u001b[49m\u001b[43m)\u001b[49m\u001b[43m \u001b[49m\u001b[38;5;241;43m+\u001b[39;49m\u001b[43m \u001b[49m\u001b[43margs\u001b[49m\u001b[43m)\u001b[49m\u001b[43m)\u001b[49m)\n\u001b[0;32m     25\u001b[0m     \u001b[38;5;28;01mif\u001b[39;00m (output_shape \u001b[38;5;129;01mis\u001b[39;00m \u001b[38;5;129;01mnot\u001b[39;00m \u001b[38;5;28;01mNone\u001b[39;00m) \u001b[38;5;129;01mand\u001b[39;00m (shape(res) \u001b[38;5;241m!=\u001b[39m output_shape):\n\u001b[0;32m     26\u001b[0m         \u001b[38;5;28;01mif\u001b[39;00m (output_shape[\u001b[38;5;241m0\u001b[39m] \u001b[38;5;241m!=\u001b[39m \u001b[38;5;241m1\u001b[39m):\n",
      "Cell \u001b[1;32mIn[1], line 18\u001b[0m, in \u001b[0;36mconstrained_solve.<locals>.<lambda>\u001b[1;34m(vars)\u001b[0m\n\u001b[0;32m     15\u001b[0m \u001b[38;5;28;01mdef\u001b[39;00m \u001b[38;5;21mconstrained_solve\u001b[39m(initial_guess, force_hand, coefficient_friction, elastic_modulus, I_beam, length_beam, deflection):\n\u001b[0;32m     16\u001b[0m     \u001b[38;5;66;03m#solve the system of equations\u001b[39;00m\n\u001b[0;32m     17\u001b[0m     solution \u001b[38;5;241m=\u001b[39m fsolve(\n\u001b[1;32m---> 18\u001b[0m         \u001b[38;5;28;01mlambda\u001b[39;00m \u001b[38;5;28mvars\u001b[39m: \u001b[43mequations\u001b[49m\u001b[43m(\u001b[49m\u001b[38;5;28;43mvars\u001b[39;49m\u001b[43m,\u001b[49m\u001b[43m \u001b[49m\u001b[43mforce_hand\u001b[49m\u001b[43m,\u001b[49m\u001b[43m \u001b[49m\u001b[43mcoefficient_friction\u001b[49m\u001b[43m,\u001b[49m\u001b[43m \u001b[49m\u001b[43melastic_modulus\u001b[49m\u001b[43m,\u001b[49m\u001b[43m \u001b[49m\u001b[43mI_beam\u001b[49m\u001b[43m,\u001b[49m\u001b[43m \u001b[49m\u001b[43mlength_beam\u001b[49m\u001b[43m,\u001b[49m\u001b[43m \u001b[49m\u001b[43mdeflection\u001b[49m\u001b[43m)\u001b[49m,\n\u001b[0;32m     19\u001b[0m         initial_guess\n\u001b[0;32m     20\u001b[0m     )\n\u001b[0;32m     22\u001b[0m     \u001b[38;5;66;03m#enforce that the angle is between 0 and 90 degrees\u001b[39;00m\n\u001b[0;32m     23\u001b[0m     angle \u001b[38;5;241m=\u001b[39m solution[\u001b[38;5;241m0\u001b[39m]\n",
      "Cell \u001b[1;32mIn[1], line 11\u001b[0m, in \u001b[0;36mequations\u001b[1;34m(vars, force_hand, coefficient_friction, elastic_modulus, I_beam, length_beam, deflection)\u001b[0m\n\u001b[0;32m      8\u001b[0m \u001b[38;5;66;03m# Second equation\u001b[39;00m\n\u001b[0;32m      9\u001b[0m eq2 \u001b[38;5;241m=\u001b[39m ((\u001b[38;5;241m3\u001b[39m \u001b[38;5;241m*\u001b[39m elastic_modulus \u001b[38;5;241m*\u001b[39m I_beam) \u001b[38;5;241m/\u001b[39m load_location\u001b[38;5;241m*\u001b[39m\u001b[38;5;241m*\u001b[39m\u001b[38;5;241m3\u001b[39m) \u001b[38;5;241m*\u001b[39m deflection \u001b[38;5;241m-\u001b[39m force_normal \u001b[38;5;241m*\u001b[39m np\u001b[38;5;241m.\u001b[39mcos(angle)\n\u001b[1;32m---> 11\u001b[0m eq3 \u001b[38;5;241m=\u001b[39m length_beam \u001b[38;5;241m-\u001b[39m (max_bump_height \u001b[38;5;241m/\u001b[39m np\u001b[38;5;241m.\u001b[39mtan(\u001b[43mangle_solution_out\u001b[49m)) \u001b[38;5;241m-\u001b[39m load_location\n\u001b[0;32m     12\u001b[0m \u001b[38;5;28;01mreturn\u001b[39;00m [eq1, eq2, eq3]\n",
      "\u001b[1;31mNameError\u001b[0m: name 'angle_solution_out' is not defined"
     ]
    }
   ],
   "source": [
    "import numpy as np\n",
    "from scipy.optimize import fsolve\n",
    "\n",
    "def equations(vars, force_hand, coefficient_friction, elastic_modulus, I_beam, length_beam, deflection):\n",
    "    angle, force_normal, load_location = vars\n",
    "    # First equation\n",
    "    eq1 = (force_hand) / (coefficient_friction * np.cos(angle) + np.sin(angle)) - force_normal\n",
    "    # Second equation\n",
    "    eq2 = ((3 * elastic_modulus * I_beam) / load_location**3) * deflection - force_normal * np.cos(angle)\n",
    "\n",
    "    eq3 = length_beam - (max_bump_height / np.tan(angle)) - load_location\n",
    "    return [eq1, eq2, eq3]\n",
    "\n",
    "#function to enforce angle constraints\n",
    "def constrained_solve(initial_guess, force_hand, coefficient_friction, elastic_modulus, I_beam, length_beam, deflection):\n",
    "    #solve the system of equations\n",
    "    solution = fsolve(\n",
    "        lambda vars: equations(vars, force_hand, coefficient_friction, elastic_modulus, I_beam, length_beam, deflection),\n",
    "        initial_guess\n",
    "    )\n",
    "    \n",
    "    #enforce that the angle is between 0 and 90 degrees\n",
    "    angle = solution[0]\n",
    "    if angle < 0:\n",
    "        angle = -angle\n",
    "    elif angle > np.pi / 2:\n",
    "        angle = np.pi - angle\n",
    "    \n",
    "    solution[0] = angle\n",
    "    return solution\n",
    "\n",
    "#input parameters\n",
    "force_hand_in = 22.241\n",
    "coefficient_friction = 0.5\n",
    "elastic_modulus = 2900e6\n",
    "length_beam = 10e-2 \n",
    "width_beam = 5e-2\n",
    "height_beam = 0.75e-2\n",
    "I_beam = (width_beam * height_beam**3) / 12\n",
    "max_bump_height = height_beam / 2\n",
    "deflection = max_bump_height\n",
    "\n",
    "#initial guess\n",
    "initial_guess = [0.1, 100, 0.5]  # Initial angle in radians and force_normal\n",
    "\n",
    "#solve\n",
    "solution = constrained_solve(initial_guess, force_hand_in, coefficient_friction, elastic_modulus, I_beam, length_beam, deflection)\n",
    "angle_solution_in, force_normal_solution_in = solution\n",
    "\n",
    "#convert angle to degrees\n",
    "angle_solution_degrees_in = np.degrees(angle_solution_in)\n",
    "\n",
    "load_location_from_end_in = max_bump_height / np.tan(angle_solution_in)\n",
    "\n",
    "print(f\"IN Solution Angle: {angle_solution_degrees_in} degrees\")\n",
    "print(f\"IN Solution Force Normal: {force_normal_solution_in} N\")\n",
    "print(f\"IN Load Location from End:{load_location_from_end_in} m\")\n"
   ]
  }
 ],
 "metadata": {
  "kernelspec": {
   "display_name": "Python 3",
   "language": "python",
   "name": "python3"
  },
  "language_info": {
   "codemirror_mode": {
    "name": "ipython",
    "version": 3
   },
   "file_extension": ".py",
   "mimetype": "text/x-python",
   "name": "python",
   "nbconvert_exporter": "python",
   "pygments_lexer": "ipython3",
   "version": "3.10.11"
  }
 },
 "nbformat": 4,
 "nbformat_minor": 2
}
