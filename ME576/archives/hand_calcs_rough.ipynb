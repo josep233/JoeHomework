{
 "cells": [
  {
   "cell_type": "code",
   "execution_count": 1,
   "metadata": {},
   "outputs": [
    {
     "name": "stdout",
     "output_type": "stream",
     "text": [
      "iteration: 0, value: [0.21732628]\n",
      "iteration: 1, value: [0.21728203]\n",
      "iteration: 2, value: [0.21723774]\n",
      "iteration: 3, value: [0.21719342]\n",
      "iteration: 4, value: [0.21714906]\n",
      "iteration: 5, value: [0.21710467]\n"
     ]
    }
   ],
   "source": [
    "%reset -f\n",
    "%load_ext autoreload\n",
    "%autoreload 2\n",
    "\n",
    "import numpy as np\n",
    "import sympy as sy\n",
    "from matplotlib import pyplot as plt\n",
    "\n",
    "elastic_modulus = 2900e6\n",
    "width_beam = 3e-2\n",
    "length_beam = 10e-2\n",
    "height_beam = 0.25e-2\n",
    "deflection = length_beam * 0.1\n",
    "friction_coefficient = 0.5\n",
    "I_beam = (width_beam * height_beam**3) / 12\n",
    "angle_in_deg = np.linspace(50,80,1000)\n",
    "angle_in_rad = np.deg2rad(angle_in_deg)\n",
    "\n",
    "calculated_force_in = ((3 * elastic_modulus * I_beam) / (length_beam - (deflection / np.tan(angle_in_rad)))**3) * deflection * (friction_coefficient + np.tan(angle_in_rad))\n",
    "\n",
    "angle_out = sy.Symbol('angle_out')\n",
    "angle_out_solution_rad = np.zeros((len(calculated_force_in),1))\n",
    "\n",
    "for i in range(0,len(calculated_force_in)):\n",
    "    try:\n",
    "        solutions =  sy.solve([(3*elastic_modulus*I_beam/(length_beam - (deflection / sy.tan(angle_out)))**3) * deflection * (friction_coefficient + sy.tan(angle_out)) - 2 * calculated_force_in[i]],[angle_out],dict=True)\n",
    "        angle_out_solution_rad[i] = float(solutions[0][angle_out])\n",
    "    except:\n",
    "        angle_out_solution_rad[i] = np.nan\n",
    "    print(f\"iteration: {i}, value: {angle_out_solution_rad[i] }\")\n",
    "\n",
    "plt.figure()\n",
    "plt.plot(angle_in_deg,calculated_force_in,'black')\n",
    "plt.xlabel('Angle (Deg)')\n",
    "plt.ylabel('Force (N)')\n",
    "plt.show()"
   ]
  }
 ],
 "metadata": {
  "kernelspec": {
   "display_name": "Python 3",
   "language": "python",
   "name": "python3"
  },
  "language_info": {
   "codemirror_mode": {
    "name": "ipython",
    "version": 3
   },
   "file_extension": ".py",
   "mimetype": "text/x-python",
   "name": "python",
   "nbconvert_exporter": "python",
   "pygments_lexer": "ipython3",
   "version": "3.10.11"
  }
 },
 "nbformat": 4,
 "nbformat_minor": 2
}
